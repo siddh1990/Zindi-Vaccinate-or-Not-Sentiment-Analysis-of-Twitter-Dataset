{
  "metadata": {
    "kernelspec": {
      "language": "python",
      "display_name": "Python 3",
      "name": "python3"
    },
    "language_info": {
      "name": "python",
      "version": "3.10.13",
      "mimetype": "text/x-python",
      "codemirror_mode": {
        "name": "ipython",
        "version": 3
      },
      "pygments_lexer": "ipython3",
      "nbconvert_exporter": "python",
      "file_extension": ".py"
    },
    "kaggle": {
      "accelerator": "none",
      "dataSources": [
        {
          "sourceId": 8057892,
          "sourceType": "datasetVersion",
          "datasetId": 4752770
        }
      ],
      "dockerImageVersionId": 30673,
      "isInternetEnabled": true,
      "language": "python",
      "sourceType": "notebook",
      "isGpuEnabled": false
    },
    "colab": {
      "provenance": []
    }
  },
  "nbformat_minor": 0,
  "nbformat": 4,
  "cells": [
    {
      "cell_type": "code",
      "source": [
        "# This Python 3 environment comes with many helpful analytics libraries installed\n",
        "# It is defined by the kaggle/python Docker image: https://github.com/kaggle/docker-python\n",
        "# For example, here's several helpful packages to load\n",
        "\n",
        "import numpy as np # linear algebra\n",
        "import pandas as pd # data processing, CSV file I/O (e.g. pd.read_csv)\n",
        "\n",
        "# Input data files are available in the read-only \"../input/\" directory\n",
        "# For example, running this (by clicking run or pressing Shift+Enter) will list all files under the input directory\n",
        "\n",
        "import os\n",
        "for dirname, _, filenames in os.walk('/kaggle/input'):\n",
        "    for filename in filenames:\n",
        "        print(os.path.join(dirname, filename))\n",
        "\n",
        "# You can write up to 20GB to the current directory (/kaggle/working/) that gets preserved as output when you create a version using \"Save & Run All\"\n",
        "# You can also write temporary files to /kaggle/temp/, but they won't be saved outside of the current session"
      ],
      "metadata": {
        "_uuid": "8f2839f25d086af736a60e9eeb907d3b93b6e0e5",
        "_cell_guid": "b1076dfc-b9ad-4769-8c92-a6c4dae69d19",
        "execution": {
          "iopub.status.busy": "2024-04-07T23:51:30.686603Z",
          "iopub.execute_input": "2024-04-07T23:51:30.687513Z",
          "iopub.status.idle": "2024-04-07T23:51:31.755322Z",
          "shell.execute_reply.started": "2024-04-07T23:51:30.687471Z",
          "shell.execute_reply": "2024-04-07T23:51:31.754160Z"
        },
        "trusted": true,
        "id": "rh1ZoeMGjHsg",
        "outputId": "c8efe478-de40-48b8-f463-ea2c145a0682"
      },
      "execution_count": null,
      "outputs": [
        {
          "name": "stdout",
          "text": "/kaggle/input/zindi-vaccinate/Train (1).csv\n",
          "output_type": "stream"
        }
      ]
    },
    {
      "cell_type": "code",
      "source": [
        "!pip install vaderSentiment"
      ],
      "metadata": {
        "execution": {
          "iopub.status.busy": "2024-04-07T23:51:31.757126Z",
          "iopub.execute_input": "2024-04-07T23:51:31.758950Z",
          "iopub.status.idle": "2024-04-07T23:51:48.460365Z",
          "shell.execute_reply.started": "2024-04-07T23:51:31.758910Z",
          "shell.execute_reply": "2024-04-07T23:51:48.458928Z"
        },
        "trusted": true,
        "id": "cImoyqpHjHsm",
        "outputId": "1c8d3357-5b55-414f-bdfb-1f88e07e2f35"
      },
      "execution_count": null,
      "outputs": [
        {
          "name": "stdout",
          "text": "Collecting vaderSentiment\n  Downloading vaderSentiment-3.3.2-py2.py3-none-any.whl.metadata (572 bytes)\nRequirement already satisfied: requests in /opt/conda/lib/python3.10/site-packages (from vaderSentiment) (2.31.0)\nRequirement already satisfied: charset-normalizer<4,>=2 in /opt/conda/lib/python3.10/site-packages (from requests->vaderSentiment) (3.3.2)\nRequirement already satisfied: idna<4,>=2.5 in /opt/conda/lib/python3.10/site-packages (from requests->vaderSentiment) (3.6)\nRequirement already satisfied: urllib3<3,>=1.21.1 in /opt/conda/lib/python3.10/site-packages (from requests->vaderSentiment) (1.26.18)\nRequirement already satisfied: certifi>=2017.4.17 in /opt/conda/lib/python3.10/site-packages (from requests->vaderSentiment) (2024.2.2)\nDownloading vaderSentiment-3.3.2-py2.py3-none-any.whl (125 kB)\n\u001b[2K   \u001b[90m━━━━━━━━━━━━━━━━━━━━━━━━━━━━━━━━━━━━━━━━\u001b[0m \u001b[32m126.0/126.0 kB\u001b[0m \u001b[31m4.1 MB/s\u001b[0m eta \u001b[36m0:00:00\u001b[0m\n\u001b[?25hInstalling collected packages: vaderSentiment\nSuccessfully installed vaderSentiment-3.3.2\n",
          "output_type": "stream"
        }
      ]
    },
    {
      "cell_type": "code",
      "source": [
        "from vaderSentiment.vaderSentiment import SentimentIntensityAnalyzer\n",
        "import pandas as pd\n",
        "from pandas import option_context\n",
        "from sklearn.metrics import confusion_matrix, classification_report\n",
        "from sklearn.model_selection import train_test_split\n",
        "from sklearn.feature_extraction.text import TfidfVectorizer\n",
        "from sklearn.ensemble import RandomForestClassifier\n"
      ],
      "metadata": {
        "execution": {
          "iopub.status.busy": "2024-04-07T23:51:48.462246Z",
          "iopub.execute_input": "2024-04-07T23:51:48.462662Z",
          "iopub.status.idle": "2024-04-07T23:51:50.279638Z",
          "shell.execute_reply.started": "2024-04-07T23:51:48.462623Z",
          "shell.execute_reply": "2024-04-07T23:51:50.278344Z"
        },
        "trusted": true,
        "id": "Yw4zOhF6jHsn"
      },
      "execution_count": null,
      "outputs": []
    },
    {
      "cell_type": "code",
      "source": [
        "df=pd.read_csv(\"/kaggle/input/zindi-vaccinate/Train (1).csv\")\n",
        "#text_col = \"text\"\n",
        "#label_col = \"label\"\n",
        "\n",
        "# Later, simpletransformers won't work with str() classes. So let's convert them\n",
        "# to integers as follows.\n",
        "#class_dict = {'negative': 0, 'neutral': 1 ,'positive': 2}\n",
        "\n",
        "\n",
        "#df[label_col] = df[\"airline_sentiment\"].apply(lambda x: class_dict.get(x))\n",
        "#df.info()\n"
      ],
      "metadata": {
        "execution": {
          "iopub.status.busy": "2024-04-07T23:51:50.282710Z",
          "iopub.execute_input": "2024-04-07T23:51:50.283083Z",
          "iopub.status.idle": "2024-04-07T23:51:50.350762Z",
          "shell.execute_reply.started": "2024-04-07T23:51:50.283052Z",
          "shell.execute_reply": "2024-04-07T23:51:50.349694Z"
        },
        "trusted": true,
        "id": "mVjBLJtRjHsn"
      },
      "execution_count": null,
      "outputs": []
    },
    {
      "cell_type": "code",
      "source": [
        "df.head(2)"
      ],
      "metadata": {
        "execution": {
          "iopub.status.busy": "2024-04-07T23:51:50.352509Z",
          "iopub.execute_input": "2024-04-07T23:51:50.352977Z",
          "iopub.status.idle": "2024-04-07T23:51:50.375751Z",
          "shell.execute_reply.started": "2024-04-07T23:51:50.352937Z",
          "shell.execute_reply": "2024-04-07T23:51:50.374605Z"
        },
        "trusted": true,
        "id": "JFbvcVy1jHso",
        "outputId": "ab0fe4d2-2f59-4ca7-ae3e-ae75a9357409"
      },
      "execution_count": null,
      "outputs": [
        {
          "execution_count": 5,
          "output_type": "execute_result",
          "data": {
            "text/plain": "   tweet_id                                          safe_text  label  \\\n0  CL1KWCMY  Me &amp; The Big Homie meanboy3000 #MEANBOY #M...    0.0   \n1  E3303EME  I'm 100% thinking of devoting my career to pro...    1.0   \n\n   agreement  \n0        1.0  \n1        1.0  ",
            "text/html": "<div>\n<style scoped>\n    .dataframe tbody tr th:only-of-type {\n        vertical-align: middle;\n    }\n\n    .dataframe tbody tr th {\n        vertical-align: top;\n    }\n\n    .dataframe thead th {\n        text-align: right;\n    }\n</style>\n<table border=\"1\" class=\"dataframe\">\n  <thead>\n    <tr style=\"text-align: right;\">\n      <th></th>\n      <th>tweet_id</th>\n      <th>safe_text</th>\n      <th>label</th>\n      <th>agreement</th>\n    </tr>\n  </thead>\n  <tbody>\n    <tr>\n      <th>0</th>\n      <td>CL1KWCMY</td>\n      <td>Me &amp;amp; The Big Homie meanboy3000 #MEANBOY #M...</td>\n      <td>0.0</td>\n      <td>1.0</td>\n    </tr>\n    <tr>\n      <th>1</th>\n      <td>E3303EME</td>\n      <td>I'm 100% thinking of devoting my career to pro...</td>\n      <td>1.0</td>\n      <td>1.0</td>\n    </tr>\n  </tbody>\n</table>\n</div>"
          },
          "metadata": {}
        }
      ]
    },
    {
      "cell_type": "code",
      "source": [
        "df.dropna(inplace=True)"
      ],
      "metadata": {
        "execution": {
          "iopub.status.busy": "2024-04-07T23:51:50.377299Z",
          "iopub.execute_input": "2024-04-07T23:51:50.377607Z",
          "iopub.status.idle": "2024-04-07T23:51:50.391179Z",
          "shell.execute_reply.started": "2024-04-07T23:51:50.377581Z",
          "shell.execute_reply": "2024-04-07T23:51:50.389968Z"
        },
        "trusted": true,
        "id": "9jHpl3mNjHso"
      },
      "execution_count": null,
      "outputs": []
    },
    {
      "cell_type": "code",
      "source": [
        "X = df[\"safe_text\"]\n",
        "y = df[\"label\"]\n",
        "\n",
        "X_train, X_test, y_train, y_test = train_test_split(X, y, test_size=0.33, random_state=42, stratify=y)"
      ],
      "metadata": {
        "execution": {
          "iopub.status.busy": "2024-04-07T23:51:50.393159Z",
          "iopub.execute_input": "2024-04-07T23:51:50.395487Z",
          "iopub.status.idle": "2024-04-07T23:51:50.414926Z",
          "shell.execute_reply.started": "2024-04-07T23:51:50.395441Z",
          "shell.execute_reply": "2024-04-07T23:51:50.413841Z"
        },
        "trusted": true,
        "id": "i16YLR33jHsp"
      },
      "execution_count": null,
      "outputs": []
    },
    {
      "cell_type": "code",
      "source": [
        "class_dict = {'negative': -1, 'neutral': 0 ,'positive': 1}"
      ],
      "metadata": {
        "execution": {
          "iopub.status.busy": "2024-04-07T23:51:50.416446Z",
          "iopub.execute_input": "2024-04-07T23:51:50.416796Z",
          "iopub.status.idle": "2024-04-07T23:51:50.421741Z",
          "shell.execute_reply.started": "2024-04-07T23:51:50.416766Z",
          "shell.execute_reply": "2024-04-07T23:51:50.420427Z"
        },
        "trusted": true,
        "id": "-Z0Kh7X2jHsp"
      },
      "execution_count": null,
      "outputs": []
    },
    {
      "cell_type": "code",
      "source": [
        "def get_preds(sentences):\n",
        "  analyzer = SentimentIntensityAnalyzer()\n",
        "  preds = []\n",
        "  for sentence in sentences:\n",
        "      _score = analyzer.polarity_scores(sentence)['compound']\n",
        "      _class = class_dict.get('neutral')\n",
        "      if _score <= -0.05:\n",
        "        _class = class_dict.get('negative')\n",
        "      elif _score >= 0.05:\n",
        "        _class = class_dict.get('positive')\n",
        "      preds.append(_class)\n",
        "  return preds\n",
        "\n",
        "y_preds_train_1 = get_preds(X_train)\n",
        "y_preds_test_1 = get_preds(X_test)"
      ],
      "metadata": {
        "execution": {
          "iopub.status.busy": "2024-04-07T23:51:50.423364Z",
          "iopub.execute_input": "2024-04-07T23:51:50.423780Z",
          "iopub.status.idle": "2024-04-07T23:51:51.923387Z",
          "shell.execute_reply.started": "2024-04-07T23:51:50.423746Z",
          "shell.execute_reply": "2024-04-07T23:51:51.922010Z"
        },
        "trusted": true,
        "id": "OQzwY8lxjHsq"
      },
      "execution_count": null,
      "outputs": []
    },
    {
      "cell_type": "code",
      "source": [
        "print(confusion_matrix(y_train, y_preds_train_1))\n",
        "print(classification_report(y_train, y_preds_train_1))"
      ],
      "metadata": {
        "execution": {
          "iopub.status.busy": "2024-04-07T23:51:51.927361Z",
          "iopub.execute_input": "2024-04-07T23:51:51.927988Z",
          "iopub.status.idle": "2024-04-07T23:51:51.972967Z",
          "shell.execute_reply.started": "2024-04-07T23:51:51.927942Z",
          "shell.execute_reply": "2024-04-07T23:51:51.971780Z"
        },
        "trusted": true,
        "id": "eyTIv-wujHss",
        "outputId": "8cedef79-674b-420c-a9f7-9de2f89bb264"
      },
      "execution_count": null,
      "outputs": [
        {
          "name": "stdout",
          "text": "[[ 301  182  213]\n [1070 1217 1001]\n [1094  689  932]]\n              precision    recall  f1-score   support\n\n        -1.0       0.12      0.43      0.19       696\n         0.0       0.58      0.37      0.45      3288\n         1.0       0.43      0.34      0.38      2715\n\n    accuracy                           0.37      6699\n   macro avg       0.38      0.38      0.34      6699\nweighted avg       0.47      0.37      0.40      6699\n\n",
          "output_type": "stream"
        }
      ]
    },
    {
      "cell_type": "code",
      "source": [
        "print(confusion_matrix(y_test, y_preds_test_1))\n",
        "print(classification_report(y_test, y_preds_test_1))"
      ],
      "metadata": {
        "execution": {
          "iopub.status.busy": "2024-04-07T23:51:51.974572Z",
          "iopub.execute_input": "2024-04-07T23:51:51.975536Z",
          "iopub.status.idle": "2024-04-07T23:51:52.006989Z",
          "shell.execute_reply.started": "2024-04-07T23:51:51.975488Z",
          "shell.execute_reply": "2024-04-07T23:51:52.005573Z"
        },
        "trusted": true,
        "id": "ZoMZuxO3jHst",
        "outputId": "899330fe-7b43-4e0f-8706-8081e12fdac7"
      },
      "execution_count": null,
      "outputs": [
        {
          "name": "stdout",
          "text": "[[169  89  84]\n [522 590 508]\n [544 351 443]]\n              precision    recall  f1-score   support\n\n        -1.0       0.14      0.49      0.21       342\n         0.0       0.57      0.36      0.45      1620\n         1.0       0.43      0.33      0.37      1338\n\n    accuracy                           0.36      3300\n   macro avg       0.38      0.40      0.34      3300\nweighted avg       0.47      0.36      0.39      3300\n\n",
          "output_type": "stream"
        }
      ]
    }
  ]
}